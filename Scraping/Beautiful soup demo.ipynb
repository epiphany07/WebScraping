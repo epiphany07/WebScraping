{
 "cells": [
  {
   "cell_type": "code",
   "execution_count": 2,
   "id": "8b4fc84f",
   "metadata": {
    "scrolled": true
   },
   "outputs": [
    {
     "data": {
      "text/plain": [
       "'E:\\\\Scraping'"
      ]
     },
     "execution_count": 2,
     "metadata": {},
     "output_type": "execute_result"
    }
   ],
   "source": [
    "import os\n",
    "#gets current working directory\n",
    "os.getcwd()\n"
   ]
  },
  {
   "cell_type": "code",
   "execution_count": 1,
   "id": "8f49d120",
   "metadata": {},
   "outputs": [],
   "source": [
    "from bs4 import BeautifulSoup\n",
    "import requests\n",
    "import pandas as pd"
   ]
  },
  {
   "cell_type": "code",
   "execution_count": 2,
   "id": "6fb4886c",
   "metadata": {},
   "outputs": [],
   "source": [
    "baseurl=\"https://www.thewhiskyexchange.com/\"\n",
    "headers={\n",
    "    'User-Agent':\"Mozilla/5.0 (Windows NT 10.0; Win64; x64) AppleWebKit/537.36 (KHTML, like Gecko) Chrome/111.0.0.0 Safari/537.36\"\n",
    "}\n"
   ]
  },
  {
   "cell_type": "code",
   "execution_count": 13,
   "id": "00b4b6a6",
   "metadata": {},
   "outputs": [],
   "source": [
    "r=requests.get(\"https://www.thewhiskyexchange.com/c/35/japanese-whisky\")\n",
    "soup=BeautifulSoup(r.content,\"lxml\")"
   ]
  },
  {
   "cell_type": "code",
   "execution_count": 14,
   "id": "dff8289a",
   "metadata": {},
   "outputs": [],
   "source": [
    "#returns html code of li tag with class name product-grid__item\n",
    "productlist=soup.find_all('li',class_='product-grid__item')"
   ]
  },
  {
   "cell_type": "markdown",
   "id": "b5d41069",
   "metadata": {},
   "source": [
    "productlinks=[]\n",
    "#list to store each individual product link in the webpage"
   ]
  },
  {
   "cell_type": "code",
   "execution_count": null,
   "id": "842fe1c7",
   "metadata": {},
   "outputs": [],
   "source": []
  },
  {
   "cell_type": "markdown",
   "id": "24d40bf4",
   "metadata": {},
   "source": [
    "productlist contains all the products info html code \n",
    "productlinks contains all the individual product page links in the base url site\n",
    "below loop is for iterating through each item in productlist and if its has a product page then appending the page link to productlinks with the baseurl +that page's no "
   ]
  },
  {
   "cell_type": "markdown",
   "id": "898bf7fe",
   "metadata": {},
   "source": [
    "for item in productlist:\n",
    "    for link in item.find_all('a',href=True):\n",
    "        productlinks.append(baseurl+str(link['href']))\n",
    "print(len(productlinks))"
   ]
  },
  {
   "cell_type": "markdown",
   "id": "e22b749b",
   "metadata": {},
   "source": [
    "below is almost same as above code but the above code takes info from single page. When we have more than one pages of products we iterate through the no of pages. Here we have 2 pages so the range is from 1-3. To insert the page number in the link a f string is used."
   ]
  },
  {
   "cell_type": "code",
   "execution_count": 15,
   "id": "4d124fd0",
   "metadata": {},
   "outputs": [
    {
     "name": "stdout",
     "output_type": "stream",
     "text": [
      "48\n"
     ]
    }
   ],
   "source": [
    "productlinks=[]\n",
    "for x in range(1,3):\n",
    "    r=requests.get(f\"https://www.thewhiskyexchange.com/c/35/japanese-whisky?pg={x}\",)\n",
    "    soup=BeautifulSoup(r.content,\"lxml\")\n",
    "    productlist=soup.find_all('li',class_='product-grid__item')\n",
    "    \n",
    "    for item in productlist:\n",
    "    \tfor link in item.find_all('a',href=True):\n",
    "            productlinks.append(baseurl+str(link['href']))\n",
    "\n",
    "print(len(productlinks))"
   ]
  },
  {
   "cell_type": "markdown",
   "id": "77bb1210",
   "metadata": {},
   "source": [
    "to get the info of a particular product from that products page the code is below.\n",
    "it gives info abt the products overview under the html tag product-main__header"
   ]
  },
  {
   "cell_type": "code",
   "execution_count": 16,
   "id": "fccae8a5",
   "metadata": {},
   "outputs": [
    {
     "data": {
      "text/plain": [
       "<header class=\"product-main__header\">\n",
       "<h1 class=\"product-main__name\">\n",
       "Nikka Coffey Grain Whisky\n",
       "</h1>\n",
       "<ul class=\"product-main__meta\">\n",
       "<li>Japanese Single Grain Whisky</li>\n",
       "</ul>\n",
       "<p class=\"product-main__data\">\n",
       "70cl / 45%\n",
       "</p>\n",
       "<div class=\"product-main__attraction\">\n",
       "<div class=\"product-wishlist js-product-wishlist__container\">\n",
       "<button class=\"product-wishlist__button product-wishlist__button--add js-product-wishlist__add\" onclick=\"_gaq.push(['_trackEvent', 'ProductPage-Wishlist-Add', 'click', '23928 : Nikka Coffey Grain Whisky'])\" title=\"Add to Wishlist\"><i class=\"fal fa-heart\"></i> <span class=\"product-wishlist__text\">Add to Wishlist</span></button>\n",
       "</div>\n",
       "<a class=\"product-main__reviews js-product__scroll-or-drawer\" href=\"#Reviews\" onclick=\"_gaq.push(['_trackEvent', 'ProductPage-ReviewOverview', 'click', '23928 : Nikka Coffey Grain Whisky'])\" title=\"Read Reviews\">\n",
       "<div class=\"review-overview\">\n",
       "<p class=\"review-overview__content\">\n",
       "<span class=\"review-overview__rating star-rating star-rating--45\">\n",
       "<span>\n",
       "4.5\n",
       "</span>\n",
       "</span>\n",
       "<span class=\"review-overview__count\">(53 Reviews)\n",
       "</span>\n",
       "</p>\n",
       "</div>\n",
       "</a>\n",
       "</div>\n",
       "</header>"
      ]
     },
     "execution_count": 16,
     "metadata": {},
     "output_type": "execute_result"
    }
   ],
   "source": [
    "testlink=\"https://www.thewhiskyexchange.com/p/23928/nikka-coffey-grain-whisky\"\n",
    "r=requests.get(testlink,headers=headers)\n",
    "soup=BeautifulSoup(r.content,'lxml')\n",
    "soup.find('header',class_=\"product-main__header\")"
   ]
  },
  {
   "cell_type": "markdown",
   "id": "86fd4804",
   "metadata": {},
   "source": [
    "as the same way we can get the products title or name. Here we used .text as the output will be in html code otherwise. THe strip() is used to remove extra white spaces."
   ]
  },
  {
   "cell_type": "code",
   "execution_count": 22,
   "id": "30ec58a7",
   "metadata": {},
   "outputs": [
    {
     "data": {
      "text/plain": [
       "'(53\\xa0Reviews)'"
      ]
     },
     "execution_count": 22,
     "metadata": {},
     "output_type": "execute_result"
    }
   ],
   "source": [
    "name=soup.find('h1',class_=\"product-main__name\").text.strip()\n",
    "price=soup.find('p',class_=\"product-action__price\").text.strip()\n",
    "rating=soup.find('span',class_=\"review-overview__rating star-rating star-rating--45\").text.strip()\n",
    "reviewcount=soup.find('span',class_=\"review-overview__count\").text.strip()\n",
    "reviewcount"
   ]
  },
  {
   "cell_type": "markdown",
   "id": "4a8cb6d0",
   "metadata": {},
   "source": [
    "now we shall scrape the data of every product from its link"
   ]
  },
  {
   "cell_type": "code",
   "execution_count": 24,
   "id": "d3e30f97",
   "metadata": {},
   "outputs": [
    {
     "ename": "AttributeError",
     "evalue": "'NoneType' object has no attribute 'text'",
     "output_type": "error",
     "traceback": [
      "\u001b[1;31m---------------------------------------------------------------------------\u001b[0m",
      "\u001b[1;31mAttributeError\u001b[0m                            Traceback (most recent call last)",
      "\u001b[1;32m~\\AppData\\Local\\Temp/ipykernel_9896/3733903275.py\u001b[0m in \u001b[0;36m<module>\u001b[1;34m\u001b[0m\n\u001b[0;32m      2\u001b[0m     \u001b[0mr\u001b[0m\u001b[1;33m=\u001b[0m\u001b[0mrequests\u001b[0m\u001b[1;33m.\u001b[0m\u001b[0mget\u001b[0m\u001b[1;33m(\u001b[0m\u001b[0mitemlink\u001b[0m\u001b[1;33m,\u001b[0m\u001b[0mheaders\u001b[0m\u001b[1;33m=\u001b[0m\u001b[0mheaders\u001b[0m\u001b[1;33m)\u001b[0m\u001b[1;33m\u001b[0m\u001b[1;33m\u001b[0m\u001b[0m\n\u001b[0;32m      3\u001b[0m     \u001b[0msoup\u001b[0m\u001b[1;33m=\u001b[0m\u001b[0mBeautifulSoup\u001b[0m\u001b[1;33m(\u001b[0m\u001b[0mr\u001b[0m\u001b[1;33m.\u001b[0m\u001b[0mcontent\u001b[0m\u001b[1;33m,\u001b[0m\u001b[1;34m'lxml'\u001b[0m\u001b[1;33m)\u001b[0m\u001b[1;33m\u001b[0m\u001b[1;33m\u001b[0m\u001b[0m\n\u001b[1;32m----> 4\u001b[1;33m     \u001b[0mname\u001b[0m\u001b[1;33m=\u001b[0m\u001b[0msoup\u001b[0m\u001b[1;33m.\u001b[0m\u001b[0mfind\u001b[0m\u001b[1;33m(\u001b[0m\u001b[1;34m'h1'\u001b[0m\u001b[1;33m,\u001b[0m\u001b[0mclass_\u001b[0m\u001b[1;33m=\u001b[0m\u001b[1;34m\"product-main__name\"\u001b[0m\u001b[1;33m)\u001b[0m\u001b[1;33m.\u001b[0m\u001b[0mtext\u001b[0m\u001b[1;33m.\u001b[0m\u001b[0mstrip\u001b[0m\u001b[1;33m(\u001b[0m\u001b[1;33m)\u001b[0m\u001b[1;33m\u001b[0m\u001b[1;33m\u001b[0m\u001b[0m\n\u001b[0m\u001b[0;32m      5\u001b[0m     \u001b[0mprice\u001b[0m\u001b[1;33m=\u001b[0m\u001b[0msoup\u001b[0m\u001b[1;33m.\u001b[0m\u001b[0mfind\u001b[0m\u001b[1;33m(\u001b[0m\u001b[1;34m'p'\u001b[0m\u001b[1;33m,\u001b[0m\u001b[0mclass_\u001b[0m\u001b[1;33m=\u001b[0m\u001b[1;34m\"product-action__price\"\u001b[0m\u001b[1;33m)\u001b[0m\u001b[1;33m.\u001b[0m\u001b[0mtext\u001b[0m\u001b[1;33m.\u001b[0m\u001b[0mstrip\u001b[0m\u001b[1;33m(\u001b[0m\u001b[1;33m)\u001b[0m\u001b[1;33m\u001b[0m\u001b[1;33m\u001b[0m\u001b[0m\n\u001b[0;32m      6\u001b[0m     \u001b[0mrating\u001b[0m\u001b[1;33m=\u001b[0m\u001b[0msoup\u001b[0m\u001b[1;33m.\u001b[0m\u001b[0mfind\u001b[0m\u001b[1;33m(\u001b[0m\u001b[1;34m'span'\u001b[0m\u001b[1;33m,\u001b[0m\u001b[0mclass_\u001b[0m\u001b[1;33m=\u001b[0m\u001b[1;34m\"review-overview__rating star-rating star-rating--45\"\u001b[0m\u001b[1;33m)\u001b[0m\u001b[1;33m.\u001b[0m\u001b[0mtext\u001b[0m\u001b[1;33m.\u001b[0m\u001b[0mstrip\u001b[0m\u001b[1;33m(\u001b[0m\u001b[1;33m)\u001b[0m\u001b[1;33m\u001b[0m\u001b[1;33m\u001b[0m\u001b[0m\n",
      "\u001b[1;31mAttributeError\u001b[0m: 'NoneType' object has no attribute 'text'"
     ]
    }
   ],
   "source": [
    "for itemlink in productlinks:\n",
    "    r=requests.get(itemlink,headers=headers)\n",
    "    soup=BeautifulSoup(r.content,'lxml')\n",
    "    name=soup.find('h1',class_=\"product-main__name\").text.strip()\n",
    "    price=soup.find('p',class_=\"product-action__price\").text.strip()\n",
    "    rating=soup.find('span',class_=\"review-overview__rating star-rating star-rating--45\").text.strip()\n",
    "    reviewcount=soup.find('span',class_=\"review-overview__count\").text.strip()\n",
    "    whisky={\n",
    "        'name':name,\n",
    "        'price':price,\n",
    "        'rating':rating,\n",
    "        'reviewcount':reviewcount\n",
    "    }\n",
    "   # print(whisky)\n",
    "\n",
    "    "
   ]
  },
  {
   "cell_type": "markdown",
   "id": "fd2c4919",
   "metadata": {},
   "source": [
    "the above code will give an error if any of the above mentioned attribute does not exist for any specific product. Like a product may not have reviews or no ratings. We can handle this using try except\n"
   ]
  },
  {
   "cell_type": "code",
   "execution_count": 25,
   "id": "cf00d044",
   "metadata": {},
   "outputs": [
    {
     "name": "stdout",
     "output_type": "stream",
     "text": [
      "https://www.thewhiskyexchange.com//p/29388/hibiki-harmony\n",
      "None\n"
     ]
    },
    {
     "ename": "AttributeError",
     "evalue": "'NoneType' object has no attribute 'text'",
     "output_type": "error",
     "traceback": [
      "\u001b[1;31m---------------------------------------------------------------------------\u001b[0m",
      "\u001b[1;31mAttributeError\u001b[0m                            Traceback (most recent call last)",
      "\u001b[1;32m~\\AppData\\Local\\Temp/ipykernel_9896/2494829774.py\u001b[0m in \u001b[0;36m<module>\u001b[1;34m\u001b[0m\n\u001b[0;32m      5\u001b[0m     \u001b[0msoup\u001b[0m\u001b[1;33m=\u001b[0m\u001b[0mBeautifulSoup\u001b[0m\u001b[1;33m(\u001b[0m\u001b[0mr\u001b[0m\u001b[1;33m.\u001b[0m\u001b[0mcontent\u001b[0m\u001b[1;33m,\u001b[0m\u001b[1;34m'lxml'\u001b[0m\u001b[1;33m)\u001b[0m\u001b[1;33m\u001b[0m\u001b[1;33m\u001b[0m\u001b[0m\n\u001b[0;32m      6\u001b[0m     \u001b[0mprint\u001b[0m\u001b[1;33m(\u001b[0m\u001b[0msoup\u001b[0m\u001b[1;33m.\u001b[0m\u001b[0mfind\u001b[0m\u001b[1;33m(\u001b[0m\u001b[1;34m'header'\u001b[0m\u001b[1;33m,\u001b[0m\u001b[0mclass_\u001b[0m\u001b[1;33m=\u001b[0m\u001b[1;34m\"product-main__header\"\u001b[0m\u001b[1;33m)\u001b[0m\u001b[1;33m)\u001b[0m\u001b[1;33m\u001b[0m\u001b[1;33m\u001b[0m\u001b[0m\n\u001b[1;32m----> 7\u001b[1;33m     \u001b[0mname\u001b[0m\u001b[1;33m=\u001b[0m\u001b[0msoup\u001b[0m\u001b[1;33m.\u001b[0m\u001b[0mfind\u001b[0m\u001b[1;33m(\u001b[0m\u001b[1;34m'h1'\u001b[0m\u001b[1;33m,\u001b[0m\u001b[0mclass_\u001b[0m\u001b[1;33m=\u001b[0m\u001b[1;34m\"product-main__name\"\u001b[0m\u001b[1;33m)\u001b[0m\u001b[1;33m.\u001b[0m\u001b[0mtext\u001b[0m\u001b[1;33m.\u001b[0m\u001b[0mstrip\u001b[0m\u001b[1;33m(\u001b[0m\u001b[1;33m)\u001b[0m\u001b[1;33m\u001b[0m\u001b[1;33m\u001b[0m\u001b[0m\n\u001b[0m\u001b[0;32m      8\u001b[0m     \u001b[0mprice\u001b[0m\u001b[1;33m=\u001b[0m\u001b[0msoup\u001b[0m\u001b[1;33m.\u001b[0m\u001b[0mfind\u001b[0m\u001b[1;33m(\u001b[0m\u001b[1;34m'p'\u001b[0m\u001b[1;33m,\u001b[0m\u001b[0mclass_\u001b[0m\u001b[1;33m=\u001b[0m\u001b[1;34m\"product-action__price\"\u001b[0m\u001b[1;33m)\u001b[0m\u001b[1;33m.\u001b[0m\u001b[0mtext\u001b[0m\u001b[1;33m.\u001b[0m\u001b[0mstrip\u001b[0m\u001b[1;33m(\u001b[0m\u001b[1;33m)\u001b[0m\u001b[1;33m\u001b[0m\u001b[1;33m\u001b[0m\u001b[0m\n\u001b[0;32m      9\u001b[0m \u001b[1;33m\u001b[0m\u001b[0m\n",
      "\u001b[1;31mAttributeError\u001b[0m: 'NoneType' object has no attribute 'text'"
     ]
    }
   ],
   "source": [
    "whiskylist=[]\n",
    "for itemlink in productlinks:\n",
    "    print(itemlink)\n",
    "    r=requests.get(itemlink,headers=headers)\n",
    "    soup=BeautifulSoup(r.content,'lxml')\n",
    "    print(soup.find('header',class_=\"product-main__header\"))\n",
    "    name=soup.find('h1',class_=\"product-main__name\").text.strip()\n",
    "    price=soup.find('p',class_=\"product-action__price\").text.strip()\n",
    "   \n",
    "    try:\n",
    "\n",
    "        rating=soup.find('span',class_=\"review-overview\").text.strip()\n",
    "        #reviewcount=soup.find('span',class_=\"review-overview\").text.strip()\n",
    "    except:\n",
    "        rating=\"no rating\"\n",
    "            \n",
    "    whisky={\n",
    "        'name':name,\n",
    "        'price':price,\n",
    "        'rating':rating\n",
    "    }\n",
    "    print(\"saving\" + whisky['name'])\n",
    "    whiskylist.append(whisky)\n",
    "    \n",
    "\n",
    "print(whiskylist)"
   ]
  },
  {
   "cell_type": "code",
   "execution_count": 77,
   "id": "0bbbb90f",
   "metadata": {},
   "outputs": [
    {
     "name": "stdout",
     "output_type": "stream",
     "text": [
      "43\n",
      "savingHibiki Harmony\n",
      "savingYamazaki 12 Year Old\n",
      "savingNikka Coffey Grain Whisky\n",
      "savingYamazaki Distiller's Reserve\n",
      "savingYoichi Single Malt\n",
      "savingThe Chita Whisky\n",
      "savingHakushu Distiller's Reserve\n",
      "savingSuntory Toki\n",
      "savingMiyagikyo Single Malt\n",
      "savingKaiyo Mizunara Oak Cask Strength\n",
      "savingKaiyo Mizunara Oak\n",
      "savingShizuoka Single Malt Prologue K and Prologue W\n",
      "2x20cl\n",
      "savingThe House of Suntory Triology Pack\n",
      "3x20cl\n",
      "savingIchiro's Malt & Grain\n",
      "World Blended Whisky 2020 Blue Label\n",
      "savingChichibu On The Way\n",
      "Bot.2019\n",
      "savingIchiro's Malt Double Distilleries 2021\n",
      "savingMars Komatgatake Edition\n",
      "Bot.2021\n",
      "savingShizuoka Contact S Single Malt\n",
      "3 Year Old\n",
      "savingKaiyo Peated Mizunara Oak\n",
      "savingAkashi 5 Year Old\n",
      "Sherry Cask Half Litre\n",
      "savingKaruizawa 29 Year Old\n",
      "Aika Geisha Bourbon Cask #8897\n",
      "savingMatsui Sakura\n",
      "Kurayoshi Distillery\n",
      "savingMatsui Mizunara\n",
      "Kurayoshi Distillery\n",
      "savingKaruizawa 31 Year Old\n",
      "Sapphire Geisha\n",
      "savingKaruizawa 30 Year Old\n",
      "First Geisha Bourbon Cask #8606\n",
      "savingSuntory Hibiki 12 Year Old\n",
      "savingShirakawa 1958\n",
      "savingKaruizawa 34 Year Old Cask #3668\n",
      "Ruby Geisha\n",
      "savingYamazaki Mizunara\n",
      "Bot.2011\n",
      "savingIchiro's Malt & Grain\n",
      "Japanese Blended Whisky 2019\n",
      "savingIchiro's Malt & Grain\n",
      "Japanese Blended Whisky 2021\n",
      "savingKaruizawa 38 Year Old\n",
      "Pearl Geisha\n",
      "savingChichibu London Edition 2018\n",
      "savingYamazaki Mizunara 18 Year Old\n",
      "2017 Edition\n",
      "savingKaruizawa 1970\n",
      "Cask 1985\n",
      "savingKaruizawa 1984\n",
      "Bot.2014 Sherry Cask #3657\n",
      "savingKaruizawa 1983\n",
      "Bot.2014 Sherry Cask\n",
      "savingKaruizawa 1981\n",
      "Bot.2014 Sherry Cask\n",
      "savingKaruizawa 1984\n",
      "29 Years Old Sherry Cask #3662\n",
      "savingKaruizawa 1984\n",
      "Bot.2013 Sherry Cask #3663\n",
      "savingKaruizawa 1981\n",
      "Sherry Cask #6056\n",
      "savingSuntory Hibiki 12 Year Old\n",
      "Half Litre\n",
      "savingKaruizawa 1981\n",
      "Cask #103\n",
      "                                                 name    price  \\\n",
      "0                                      Hibiki Harmony   £76.95   \n",
      "1                                Yamazaki 12 Year Old     £139   \n",
      "2                           Nikka Coffey Grain Whisky   £57.95   \n",
      "3                        Yamazaki Distiller's Reserve   £72.95   \n",
      "4                                  Yoichi Single Malt   £77.75   \n",
      "5                                    The Chita Whisky   £51.95   \n",
      "6                         Hakushu Distiller's Reserve   £70.95   \n",
      "7                                        Suntory Toki   £33.95   \n",
      "8                               Miyagikyo Single Malt   £78.45   \n",
      "9                    Kaiyo Mizunara Oak Cask Strength     £110   \n",
      "10                                 Kaiyo Mizunara Oak   £82.95   \n",
      "11  Shizuoka Single Malt Prologue K and Prologue W...     £199   \n",
      "12         The House of Suntory Triology Pack\\n3x20cl   £44.95   \n",
      "13  Ichiro's Malt & Grain\\nWorld Blended Whisky 20...     £195   \n",
      "14                      Chichibu On The Way\\nBot.2019     £450   \n",
      "15             Ichiro's Malt Double Distilleries 2021     £299   \n",
      "16                 Mars Komatgatake Edition\\nBot.2021     £145   \n",
      "17         Shizuoka Contact S Single Malt\\n3 Year Old     £175   \n",
      "18                          Kaiyo Peated Mizunara Oak   £99.95   \n",
      "19          Akashi 5 Year Old\\nSherry Cask Half Litre     £150   \n",
      "20  Karuizawa 29 Year Old\\nAika Geisha Bourbon Cas...  £27,500   \n",
      "21                Matsui Sakura\\nKurayoshi Distillery     £136   \n",
      "22              Matsui Mizunara\\nKurayoshi Distillery     £134   \n",
      "23             Karuizawa 31 Year Old\\nSapphire Geisha  £27,500   \n",
      "24  Karuizawa 30 Year Old\\nFirst Geisha Bourbon Ca...  £18,000   \n",
      "25                         Suntory Hibiki 12 Year Old     £950   \n",
      "26                                     Shirakawa 1958  £25,000   \n",
      "27      Karuizawa 34 Year Old Cask #3668\\nRuby Geisha  £28,000   \n",
      "28                        Yamazaki Mizunara\\nBot.2011   £7,500   \n",
      "29  Ichiro's Malt & Grain\\nJapanese Blended Whisky...   £2,750   \n",
      "30  Ichiro's Malt & Grain\\nJapanese Blended Whisky...   £2,250   \n",
      "31                Karuizawa 38 Year Old\\nPearl Geisha  £37,500   \n",
      "32                       Chichibu London Edition 2018   £1,000   \n",
      "33        Yamazaki Mizunara 18 Year Old\\n2017 Edition  £10,000   \n",
      "34                          Karuizawa 1970\\nCask 1985  £30,000   \n",
      "35         Karuizawa 1984\\nBot.2014 Sherry Cask #3657  £15,000   \n",
      "36               Karuizawa 1983\\nBot.2014 Sherry Cask  £15,000   \n",
      "37               Karuizawa 1981\\nBot.2014 Sherry Cask  £15,000   \n",
      "38     Karuizawa 1984\\n29 Years Old Sherry Cask #3662  £15,000   \n",
      "39         Karuizawa 1984\\nBot.2013 Sherry Cask #3663  £15,000   \n",
      "40                  Karuizawa 1981\\nSherry Cask #6056  £17,500   \n",
      "41             Suntory Hibiki 12 Year Old\\nHalf Litre     £675   \n",
      "42                          Karuizawa 1981\\nCask #103  £15,000   \n",
      "\n",
      "                   rating  \n",
      "0     4\\n\\n\\n(62 Reviews)  \n",
      "1   4.5\\n\\n\\n(94 Reviews)  \n",
      "2   4.5\\n\\n\\n(52 Reviews)  \n",
      "3   4.5\\n\\n\\n(55 Reviews)  \n",
      "4   4.5\\n\\n\\n(10 Reviews)  \n",
      "5   4.5\\n\\n\\n(42 Reviews)  \n",
      "6   4.5\\n\\n\\n(28 Reviews)  \n",
      "7     4\\n\\n\\n(35 Reviews)  \n",
      "8   4.5\\n\\n\\n(10 Reviews)  \n",
      "9      5\\n\\n\\n(3 Reviews)  \n",
      "10     5\\n\\n\\n(2 Reviews)  \n",
      "11              no rating  \n",
      "12              no rating  \n",
      "13              no rating  \n",
      "14              no rating  \n",
      "15      2\\n\\n\\n(1 Review)  \n",
      "16              no rating  \n",
      "17              no rating  \n",
      "18              no rating  \n",
      "19     5\\n\\n\\n(2 Reviews)  \n",
      "20              no rating  \n",
      "21              no rating  \n",
      "22              no rating  \n",
      "23              no rating  \n",
      "24              no rating  \n",
      "25  4.5\\n\\n\\n(44 Reviews)  \n",
      "26      5\\n\\n\\n(1 Review)  \n",
      "27              no rating  \n",
      "28              no rating  \n",
      "29              no rating  \n",
      "30              no rating  \n",
      "31              no rating  \n",
      "32     5\\n\\n\\n(5 Reviews)  \n",
      "33              no rating  \n",
      "34              no rating  \n",
      "35              no rating  \n",
      "36     5\\n\\n\\n(2 Reviews)  \n",
      "37              no rating  \n",
      "38              no rating  \n",
      "39      5\\n\\n\\n(1 Review)  \n",
      "40              no rating  \n",
      "41    5\\n\\n\\n(15 Reviews)  \n",
      "42              no rating  \n"
     ]
    }
   ],
   "source": [
    "baseurl=\"https://www.thewhiskyexchange.com/\"\n",
    "headers={\n",
    "    'User-Agent':\"Mozilla/5.0 (Windows NT 10.0; Win64; x64) AppleWebKit/537.36 (KHTML, like Gecko) Chrome/111.0.0.0 Safari/537.36\"\n",
    "}\n",
    "r=requests.get(\"https://www.thewhiskyexchange.com/c/35/japanese-whisky\")\n",
    "soup=BeautifulSoup(r.content,\"lxml\")\n",
    "productlist=soup.find_all('li',class_='product-grid__item')\n",
    "\n",
    "productlinks=[]\n",
    "for x in range(1,3):\n",
    "    r=requests.get(f\"https://www.thewhiskyexchange.com/c/35/japanese-whisky?pg={x}\",)\n",
    "    soup=BeautifulSoup(r.content,\"lxml\")\n",
    "    productlist=soup.find_all('li',class_='product-grid__item')\n",
    "    \n",
    "    for item in productlist:\n",
    "    \tfor link in item.find_all('a',href=True):\n",
    "            productlinks.append(baseurl+str(link['href']))\n",
    "\n",
    "print(len(productlinks))\n",
    "whiskylist=[]\n",
    "for itemlink in productlinks:\n",
    "    #print(itemlink)\n",
    "    r=requests.get(itemlink,headers=headers)\n",
    "    soup=BeautifulSoup(r.content,'lxml')\n",
    "    #print(soup.find('header',class_=\"product-main__header\"))\n",
    "    name=soup.find('h1',class_=\"product-main__name\").text.strip()\n",
    "    price=soup.find('p',class_=\"product-action__price\").text.strip()\n",
    "   \n",
    "    try:\n",
    "\n",
    "        rating=soup.find('div',class_=\"review-overview\").text.strip()\n",
    "        #reviewcount=soup.find('span',class_=\"review-overview\").text.strip()\n",
    "    except:\n",
    "        rating=\"no rating\"\n",
    "            \n",
    "    whisky={\n",
    "        'name':name,\n",
    "        'price':price,\n",
    "        'rating':rating\n",
    "    }\n",
    "    print(\"saving\" + whisky['name'])\n",
    "    whiskylist.append(whisky)\n",
    "    \n",
    "\n",
    "#print(whiskylist)\n",
    "df=pd.DataFrame(whiskylist)\n",
    "print(df)"
   ]
  },
  {
   "cell_type": "code",
   "execution_count": 78,
   "id": "34e476f5",
   "metadata": {},
   "outputs": [
    {
     "data": {
      "text/html": [
       "<div>\n",
       "<style scoped>\n",
       "    .dataframe tbody tr th:only-of-type {\n",
       "        vertical-align: middle;\n",
       "    }\n",
       "\n",
       "    .dataframe tbody tr th {\n",
       "        vertical-align: top;\n",
       "    }\n",
       "\n",
       "    .dataframe thead th {\n",
       "        text-align: right;\n",
       "    }\n",
       "</style>\n",
       "<table border=\"1\" class=\"dataframe\">\n",
       "  <thead>\n",
       "    <tr style=\"text-align: right;\">\n",
       "      <th></th>\n",
       "      <th>name</th>\n",
       "      <th>price</th>\n",
       "      <th>rating</th>\n",
       "    </tr>\n",
       "  </thead>\n",
       "  <tbody>\n",
       "    <tr>\n",
       "      <th>0</th>\n",
       "      <td>Hibiki Harmony</td>\n",
       "      <td>£76.95</td>\n",
       "      <td>4\\n\\n\\n(62 Reviews)</td>\n",
       "    </tr>\n",
       "    <tr>\n",
       "      <th>1</th>\n",
       "      <td>Yamazaki 12 Year Old</td>\n",
       "      <td>£139</td>\n",
       "      <td>4.5\\n\\n\\n(94 Reviews)</td>\n",
       "    </tr>\n",
       "    <tr>\n",
       "      <th>2</th>\n",
       "      <td>Nikka Coffey Grain Whisky</td>\n",
       "      <td>£57.95</td>\n",
       "      <td>4.5\\n\\n\\n(52 Reviews)</td>\n",
       "    </tr>\n",
       "    <tr>\n",
       "      <th>3</th>\n",
       "      <td>Yamazaki Distiller's Reserve</td>\n",
       "      <td>£72.95</td>\n",
       "      <td>4.5\\n\\n\\n(55 Reviews)</td>\n",
       "    </tr>\n",
       "    <tr>\n",
       "      <th>4</th>\n",
       "      <td>Yoichi Single Malt</td>\n",
       "      <td>£77.75</td>\n",
       "      <td>4.5\\n\\n\\n(10 Reviews)</td>\n",
       "    </tr>\n",
       "    <tr>\n",
       "      <th>5</th>\n",
       "      <td>The Chita Whisky</td>\n",
       "      <td>£51.95</td>\n",
       "      <td>4.5\\n\\n\\n(42 Reviews)</td>\n",
       "    </tr>\n",
       "    <tr>\n",
       "      <th>6</th>\n",
       "      <td>Hakushu Distiller's Reserve</td>\n",
       "      <td>£70.95</td>\n",
       "      <td>4.5\\n\\n\\n(28 Reviews)</td>\n",
       "    </tr>\n",
       "    <tr>\n",
       "      <th>7</th>\n",
       "      <td>Suntory Toki</td>\n",
       "      <td>£33.95</td>\n",
       "      <td>4\\n\\n\\n(35 Reviews)</td>\n",
       "    </tr>\n",
       "    <tr>\n",
       "      <th>8</th>\n",
       "      <td>Miyagikyo Single Malt</td>\n",
       "      <td>£78.45</td>\n",
       "      <td>4.5\\n\\n\\n(10 Reviews)</td>\n",
       "    </tr>\n",
       "    <tr>\n",
       "      <th>9</th>\n",
       "      <td>Kaiyo Mizunara Oak Cask Strength</td>\n",
       "      <td>£110</td>\n",
       "      <td>5\\n\\n\\n(3 Reviews)</td>\n",
       "    </tr>\n",
       "  </tbody>\n",
       "</table>\n",
       "</div>"
      ],
      "text/plain": [
       "                               name   price                 rating\n",
       "0                    Hibiki Harmony  £76.95    4\\n\\n\\n(62 Reviews)\n",
       "1              Yamazaki 12 Year Old    £139  4.5\\n\\n\\n(94 Reviews)\n",
       "2         Nikka Coffey Grain Whisky  £57.95  4.5\\n\\n\\n(52 Reviews)\n",
       "3      Yamazaki Distiller's Reserve  £72.95  4.5\\n\\n\\n(55 Reviews)\n",
       "4                Yoichi Single Malt  £77.75  4.5\\n\\n\\n(10 Reviews)\n",
       "5                  The Chita Whisky  £51.95  4.5\\n\\n\\n(42 Reviews)\n",
       "6       Hakushu Distiller's Reserve  £70.95  4.5\\n\\n\\n(28 Reviews)\n",
       "7                      Suntory Toki  £33.95    4\\n\\n\\n(35 Reviews)\n",
       "8             Miyagikyo Single Malt  £78.45  4.5\\n\\n\\n(10 Reviews)\n",
       "9  Kaiyo Mizunara Oak Cask Strength    £110     5\\n\\n\\n(3 Reviews)"
      ]
     },
     "execution_count": 78,
     "metadata": {},
     "output_type": "execute_result"
    }
   ],
   "source": [
    "df.head(10)"
   ]
  },
  {
   "cell_type": "code",
   "execution_count": null,
   "id": "2fb4e28b",
   "metadata": {},
   "outputs": [],
   "source": []
  }
 ],
 "metadata": {
  "kernelspec": {
   "display_name": "Python 3 (ipykernel)",
   "language": "python",
   "name": "python3"
  },
  "language_info": {
   "codemirror_mode": {
    "name": "ipython",
    "version": 3
   },
   "file_extension": ".py",
   "mimetype": "text/x-python",
   "name": "python",
   "nbconvert_exporter": "python",
   "pygments_lexer": "ipython3",
   "version": "3.9.7"
  }
 },
 "nbformat": 4,
 "nbformat_minor": 5
}
